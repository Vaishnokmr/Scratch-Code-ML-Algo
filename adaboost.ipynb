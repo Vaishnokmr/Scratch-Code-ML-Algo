{
 "cells": [
  {
   "cell_type": "code",
   "execution_count": 36,
   "id": "fec877c2-3e9f-4ba4-aff9-934140042302",
   "metadata": {},
   "outputs": [],
   "source": [
    "import pandas as pd\n",
    "import numpy as np\n",
    "import matplotlib.pyplot as plt\n",
    "from mlxtend.plotting import plot_decision_regions\n",
    "from sklearn.tree import DecisionTreeClassifier\n",
    "import warnings\n",
    "warnings.filterwarnings(\"ignore\")"
   ]
  },
  {
   "cell_type": "code",
   "execution_count": 37,
   "id": "4b02e073-2c7f-4187-a216-e5e345f04ff8",
   "metadata": {},
   "outputs": [],
   "source": [
    "df = pd.read_excel(\"psg_current.xlsx\")"
   ]
  },
  {
   "cell_type": "code",
   "execution_count": 38,
   "id": "203a3413-11bf-4c4b-ac76-afe9c9fd71ae",
   "metadata": {},
   "outputs": [],
   "source": [
    "df = df.loc[:,['overall','finishing','goal']]\n",
    "df['weights'] = 1/df.shape[0]\n",
    "dt1 = DecisionTreeClassifier(max_depth=1)\n",
    "X = df.loc[:,['overall','finishing']]\n",
    "y = df.loc[:,['goal']]\n",
    "dt1.fit(X,y)\n",
    "df['y_pred'] = dt1.predict(X)\n",
    "#calculate model weight error\n",
    "def calculate_model_weight(error):\n",
    "    return 0.5*np.log((1-error)/error)\n",
    "alpha1 = calculate_model_weight(0.2)\n",
    "# update row weight\n",
    "def update_row_weight(rows,alpha = alpha1):\n",
    "    if rows['goal'] == rows['y_pred']:\n",
    "        return rows['weights']*np.exp(-alpha)\n",
    "    else:\n",
    "        return rows['weights']*np.exp(alpha)\n",
    "df['update_weights'] =  df.apply(update_row_weight,axis=1)\n",
    "df['normalization'] = df['update_weights']/df['update_weights'].sum()\n",
    "df['upper'] = np.cumsum(df['normalization'])\n",
    "df['lower'] = df['upper'] - df['normalization']"
   ]
  },
  {
   "cell_type": "code",
   "execution_count": 39,
   "id": "644d9193-299e-40ff-b4cc-391b94a031dc",
   "metadata": {},
   "outputs": [],
   "source": [
    "def create_dataset(df):\n",
    "    l = []\n",
    "    for i in range(df.shape[0]):\n",
    "        a = np.random.random()\n",
    "        for i,j in df.iterrows():\n",
    "            if j['upper']>a and a>j['lower']: \n",
    "                l.append(i)\n",
    "    return l\n",
    "index_values = create_dataset(df)\n",
    "second_df = df.iloc[index_values,:4]\n",
    "dt2 = DecisionTreeClassifier(max_depth=1)\n",
    "X = second_df.loc[:,['overall','finishing']]\n",
    "y = second_df.loc[:,['goal']]\n",
    "dt2.fit(X,y)\n",
    "second_df['y_pred'] = dt2.predict(X)\n",
    "def calculate_model_weight(error):\n",
    "    return 0.5*np.log((1-error)/error)\n",
    "# update row weight\n",
    "alpha2 = calculate_model_weight(0.5)\n",
    "def update_row_weight(rows,alpha = alpha2 ):\n",
    "    if rows['goal'] == rows['y_pred']:\n",
    "        return rows['weights']*np.exp(-alpha)\n",
    "    else:\n",
    "        return rows['weights']*np.exp(alpha)\n",
    "second_df['update_weights'] =  second_df.apply(update_row_weight,axis=1)\n",
    "second_df['normalization'] = second_df['update_weights']/second_df['update_weights'].sum()\n",
    "second_df['upper'] = np.cumsum(second_df['normalization'])\n",
    "second_df['lower'] = second_df['upper'] - second_df['normalization']"
   ]
  },
  {
   "cell_type": "code",
   "execution_count": 40,
   "id": "5b809784-1455-43da-8c37-08c7476e0e81",
   "metadata": {},
   "outputs": [
    {
     "ename": "ZeroDivisionError",
     "evalue": "float division by zero",
     "output_type": "error",
     "traceback": [
      "\u001b[1;31m---------------------------------------------------------------------------\u001b[0m",
      "\u001b[1;31mZeroDivisionError\u001b[0m                         Traceback (most recent call last)",
      "Cell \u001b[1;32mIn [40], line 23\u001b[0m\n\u001b[0;32m     21\u001b[0m     \u001b[38;5;28;01mreturn\u001b[39;00m \u001b[38;5;241m0.5\u001b[39m\u001b[38;5;241m*\u001b[39mnp\u001b[38;5;241m.\u001b[39mlog((\u001b[38;5;241m1\u001b[39m\u001b[38;5;241m-\u001b[39merror)\u001b[38;5;241m/\u001b[39merror)\n\u001b[0;32m     22\u001b[0m \u001b[38;5;66;03m# update row weight\u001b[39;00m\n\u001b[1;32m---> 23\u001b[0m alpha3 \u001b[38;5;241m=\u001b[39m \u001b[43mcalculate_model_weight\u001b[49m\u001b[43m(\u001b[49m\u001b[43mcounter\u001b[49m\u001b[38;5;241;43m*\u001b[39;49m\u001b[38;5;241;43m0.1\u001b[39;49m\u001b[43m)\u001b[49m\n\u001b[0;32m     24\u001b[0m \u001b[38;5;28;01mdef\u001b[39;00m \u001b[38;5;21mupdate_row_weight\u001b[39m(rows,alpha \u001b[38;5;241m=\u001b[39m alpha3):\n\u001b[0;32m     25\u001b[0m     \u001b[38;5;28;01mif\u001b[39;00m rows[\u001b[38;5;124m'\u001b[39m\u001b[38;5;124mgoal\u001b[39m\u001b[38;5;124m'\u001b[39m] \u001b[38;5;241m==\u001b[39m rows[\u001b[38;5;124m'\u001b[39m\u001b[38;5;124my_pred\u001b[39m\u001b[38;5;124m'\u001b[39m]:\n",
      "Cell \u001b[1;32mIn [40], line 21\u001b[0m, in \u001b[0;36mcalculate_model_weight\u001b[1;34m(error)\u001b[0m\n\u001b[0;32m     20\u001b[0m \u001b[38;5;28;01mdef\u001b[39;00m \u001b[38;5;21mcalculate_model_weight\u001b[39m(error):\n\u001b[1;32m---> 21\u001b[0m     \u001b[38;5;28;01mreturn\u001b[39;00m \u001b[38;5;241m0.5\u001b[39m\u001b[38;5;241m*\u001b[39mnp\u001b[38;5;241m.\u001b[39mlog(\u001b[43m(\u001b[49m\u001b[38;5;241;43m1\u001b[39;49m\u001b[38;5;241;43m-\u001b[39;49m\u001b[43merror\u001b[49m\u001b[43m)\u001b[49m\u001b[38;5;241;43m/\u001b[39;49m\u001b[43merror\u001b[49m)\n",
      "\u001b[1;31mZeroDivisionError\u001b[0m: float division by zero"
     ]
    }
   ],
   "source": [
    "def create_dataset(df):\n",
    "    l = []\n",
    "    for i in range(df.shape[0]):\n",
    "        a = np.random.random()\n",
    "        for i,j in df.iterrows():\n",
    "            if j['upper']>a and a>j['lower']: \n",
    "                l.append(i)\n",
    "    return l\n",
    "index_values = create_dataset(second_df)\n",
    "third_df = second_df.iloc[index_values,:4]\n",
    "dt3 = DecisionTreeClassifier(max_depth=1)\n",
    "X = third_df.loc[:,['overall','finishing']]\n",
    "y = third_df.loc[:,['goal']]\n",
    "dt3.fit(X,y)\n",
    "third_df['y_pred'] = dt3.predict(X)\n",
    "counter = 0\n",
    "for i,j in third_df.iterrows():\n",
    "    if j['goal'] != j['y_pred']:\n",
    "        counter = counter + 1\n",
    "def calculate_model_weight(error):\n",
    "    return 0.5*np.log((1-error)/error)\n",
    "# update row weight\n",
    "alpha3 = calculate_model_weight(counter*0.1)\n",
    "def update_row_weight(rows,alpha = alpha3):\n",
    "    if rows['goal'] == rows['y_pred']:\n",
    "        return rows['weights']*np.exp(-alpha)\n",
    "    else:\n",
    "        return rows['weights']*np.exp(alpha)\n",
    "third_df['update_weights'] =  third_df.apply(update_row_weight,axis=1)\n",
    "third_df['normalization'] = third_df['update_weights']/third_df['update_weights'].sum()\n",
    "third_df['upper'] = np.cumsum(third_df['normalization'])\n",
    "third_df['lower'] = third_df['upper'] - third_df['normalization']"
   ]
  },
  {
   "cell_type": "code",
   "execution_count": null,
   "id": "2bdc1b64-4ab1-4588-9167-d791fe20e5f7",
   "metadata": {},
   "outputs": [],
   "source": [
    "def create_dataset(df):\n",
    "    l = []\n",
    "    for i in range(df.shape[0]):\n",
    "        a = np.random.random()\n",
    "        for i,j in df.iterrows():\n",
    "            if j['upper']>a and a>j['lower']: \n",
    "                l.append(i)\n",
    "    return l\n",
    "index_values = create_dataset(third_df)\n",
    "fourth_df = third_df.iloc[index_values,:4]\n",
    "dt4 = DecisionTreeClassifier(max_depth=1)\n",
    "X = fourth_df.loc[:,['overall','finishing']]\n",
    "y = fourth_df.loc[:,['goal']]\n",
    "dt4.fit(X,y)\n",
    "fourth_df['y_pred'] = dt4.predict(X)\n",
    "counter = 0\n",
    "for i,j in fourth_df.iterrows():\n",
    "    if j['goal'] != j['y_pred']:\n",
    "        counter = counter + 1\n",
    "def calculate_model_weight(error):\n",
    "    return 0.5*np.log((1-error)/(error + 0.1))\n",
    "# update row weight\n",
    "alpha4 = calculate_model_weight(counter*0.1)\n",
    "def update_row_weight(rows,alpha = alpha4):\n",
    "    if rows['goal'] == rows['y_pred']:\n",
    "        return rows['weights']*np.exp(-alpha)\n",
    "    else:\n",
    "        return rows['weights']*np.exp(alpha)\n",
    "fourth_df['update_weights'] =  fourth_df.apply(update_row_weight,axis=1)\n",
    "fourth_df['normalization'] = fourth_df['update_weights']/fourth_df['update_weights'].sum()\n",
    "fourth_df['upper'] = np.cumsum(fourth_df['normalization'])\n",
    "fourth_df['lower'] = fourth_df['upper'] - fourth_df['normalization']"
   ]
  },
  {
   "cell_type": "code",
   "execution_count": 41,
   "id": "bf937ac8-f21b-48c9-8337-f02bb075d07b",
   "metadata": {},
   "outputs": [
    {
     "name": "stdout",
     "output_type": "stream",
     "text": [
      "0.6931471805599453 0.0 1.0986122886681098 1.151292546497023\n"
     ]
    }
   ],
   "source": [
    "print(alpha1,alpha2,alpha3,alpha4)\n"
   ]
  },
  {
   "cell_type": "code",
   "execution_count": 42,
   "id": "3a90be96-036d-4237-8e25-7d2500d06e45",
   "metadata": {},
   "outputs": [],
   "source": [
    "def prediction(a,b):\n",
    "    query = np.array([a,b]).reshape(1,2)\n",
    "    output = np.sign((alpha1*dt1.predict(query)) + (alpha2* dt2.predict(query)) + (alpha3 * dt3.predict(query))+ (alpha4 * dt4.predict(query)))\n",
    "    return output"
   ]
  },
  {
   "cell_type": "code",
   "execution_count": 43,
   "id": "6b0b6591-0c91-4f92-805f-a855538379f0",
   "metadata": {},
   "outputs": [
    {
     "data": {
      "text/plain": [
       "array([1.])"
      ]
     },
     "execution_count": 43,
     "metadata": {},
     "output_type": "execute_result"
    }
   ],
   "source": [
    "prediction(64,95)"
   ]
  },
  {
   "cell_type": "code",
   "execution_count": null,
   "id": "499ec533-bdd0-4b79-bb34-6aaaafc59c42",
   "metadata": {},
   "outputs": [],
   "source": []
  }
 ],
 "metadata": {
  "kernelspec": {
   "display_name": "Python 3 (ipykernel)",
   "language": "python",
   "name": "python3"
  },
  "language_info": {
   "codemirror_mode": {
    "name": "ipython",
    "version": 3
   },
   "file_extension": ".py",
   "mimetype": "text/x-python",
   "name": "python",
   "nbconvert_exporter": "python",
   "pygments_lexer": "ipython3",
   "version": "3.9.0"
  }
 },
 "nbformat": 4,
 "nbformat_minor": 5
}
